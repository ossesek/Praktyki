{
 "cells": [
  {
   "cell_type": "code",
   "execution_count": 66,
   "metadata": {},
   "outputs": [],
   "source": [
    "import btk\n",
    "import glob\n",
    "import pandas as pd\n",
    "import numpy as np\n",
    "import matplotlib.pyplot as plt\n",
    "import importlib\n",
    "from ezc3d import c3d\n",
    "from pyomeca import Markers, Analogs\n",
    "import math"
   ]
  },
  {
   "cell_type": "code",
   "execution_count": 89,
   "metadata": {},
   "outputs": [],
   "source": [
    "data_path=r\"C:\\Users\\gmultimedia.PJATK17\\Desktop\\PJATK2020-master\\RDCLabs\\2020-08-05-B0444-S01-E01-T01.c3d\"\n",
    "data_path2=r\"C:\\Users\\gmultimedia.PJATK17\\Desktop\\PJATK2020-master\\RDCLabs\\2020-08-10-B0450-S01-E01-T01.c3d\"\n",
    "data_path3=r\"C:\\Users\\gmultimedia.PJATK17\\Desktop\\PJATK2020-master\\RDCLabs\\2020-08-12-B0453-S01-E01-T01.c3d\"\n",
    "\n",
    "marker = Markers.from_c3d(data_path, usecols=[\"Miecz:Miecz1\"])"
   ]
  },
  {
   "cell_type": "code",
   "execution_count": 102,
   "metadata": {},
   "outputs": [],
   "source": [
    "def sword_vel(data_path):\n",
    "    \n",
    "    marker = Markers.from_c3d(data_path, usecols=[\"Miecz:Miecz1\"])\n",
    "    \n",
    "    dist=[]\n",
    "    \n",
    "    for time in marker[0][0][\"time\"].values:\n",
    "        \n",
    "        #print(marker[0][0][frame].values)\n",
    "        \n",
    "        if time == 0:\n",
    "            dist.append(0)\n",
    "        else:\n",
    "            frame = (time*200).astype(int)\n",
    "            dist.append(sqrt((marker[0][0][frame-1].values-marker[0][0][frame].values)**2+(marker[1][0][frame-1].values-marker[1][0][frame].values)**2+(marker[2][0][frame-1].values-marker[2][0][frame].values)**2))\n",
    "        \n",
    "    vel=np.diff(dist[1:])\n",
    "    max_vel = max(vel)\n",
    "    #print(max_vel)\n",
    "    \n",
    "    return max_vel"
   ]
  },
  {
   "cell_type": "code",
   "execution_count": 103,
   "metadata": {},
   "outputs": [],
   "source": [
    "x1 = sword_vel(data_path)\n",
    "x2 = sword_vel(data_path2)\n",
    "x3 = sword_vel(data_path3)"
   ]
  },
  {
   "cell_type": "code",
   "execution_count": 104,
   "metadata": {},
   "outputs": [
    {
     "data": {
      "text/plain": [
       "(9.340716299116679, 1.1033651731339056, 3.5187517468017546)"
      ]
     },
     "execution_count": 104,
     "metadata": {},
     "output_type": "execute_result"
    }
   ],
   "source": [
    "x1, x2, x3"
   ]
  },
  {
   "cell_type": "code",
   "execution_count": null,
   "metadata": {},
   "outputs": [],
   "source": []
  }
 ],
 "metadata": {
  "kernelspec": {
   "display_name": "Python 3",
   "language": "python",
   "name": "python3"
  },
  "language_info": {
   "codemirror_mode": {
    "name": "ipython",
    "version": 3
   },
   "file_extension": ".py",
   "mimetype": "text/x-python",
   "name": "python",
   "nbconvert_exporter": "python",
   "pygments_lexer": "ipython3",
   "version": "3.8.3"
  }
 },
 "nbformat": 4,
 "nbformat_minor": 4
}
