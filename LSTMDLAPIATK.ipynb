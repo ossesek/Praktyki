{
 "cells": [
  {
   "cell_type": "code",
   "execution_count": 167,
   "metadata": {},
   "outputs": [],
   "source": [
    "from numpy import mean\n",
    "from numpy import std\n",
    "from numpy import dstack\n",
    "from pandas import read_csv\n",
    "from keras.models import Sequential\n",
    "from keras.layers import Dense\n",
    "from keras.layers import Flatten\n",
    "from keras.layers import Dropout\n",
    "from keras.layers import LSTM\n",
    "from keras.layers import TimeDistributed\n",
    "from keras.layers import ConvLSTM2D\n",
    "from keras.utils import to_categorical\n",
    "from matplotlib import pyplot\n",
    "\n",
    "\n",
    "import h5py\n",
    "import pandas as pd"
   ]
  },
  {
   "cell_type": "markdown",
   "metadata": {},
   "source": [
    "# Wczytywanie pliku"
   ]
  },
  {
   "cell_type": "code",
   "execution_count": 168,
   "metadata": {
    "scrolled": true
   },
   "outputs": [],
   "source": [
    "\n",
    "f = h5py.File('C:/Users/bezar/OneDrive/Pulpit/pjatk/LTM/hma_basics_with_analog_preprocesing.h5', 'r')\n"
   ]
  },
  {
   "cell_type": "code",
   "execution_count": 208,
   "metadata": {},
   "outputs": [
    {
     "name": "stdout",
     "output_type": "stream",
     "text": [
      "(samples, timesteps, features) (samples,label) ->  (1991, 113, 184) (1991, 1)\n"
     ]
    }
   ],
   "source": [
    "# ładuje listę plików do trójwymiarowej tablicy X=samples, timesteps, features (Dane wejściowe), y= samples,label (dane wyjściowe)\n",
    "\n",
    "x = f['x']\n",
    "y = f['y']\n",
    "print('(samples, timesteps, features) (samples,label) -> ', x.shape, y.shape)"
   ]
  },
  {
   "cell_type": "code",
   "execution_count": 173,
   "metadata": {
    "scrolled": false
   },
   "outputs": [
    {
     "data": {
      "text/plain": [
       "((1991, 113, 184), (1991, 1))"
      ]
     },
     "execution_count": 173,
     "metadata": {},
     "output_type": "execute_result"
    }
   ],
   "source": [
    "x.shape, y.shape"
   ]
  },
  {
   "cell_type": "markdown",
   "metadata": {},
   "source": [
    "## (1394,113,184)(1394,1) - Train\n",
    "## (497,113,184)(497,1)-Test"
   ]
  },
  {
   "cell_type": "code",
   "execution_count": 36,
   "metadata": {},
   "outputs": [],
   "source": [
    "def trenujX():\n",
    "    x1=[]\n",
    "    for i in range(0, 1394):\n",
    "        x1.append(x[i][112][183])\n",
    "\n",
    "    return x1"
   ]
  },
  {
   "cell_type": "code",
   "execution_count": 40,
   "metadata": {},
   "outputs": [],
   "source": [
    "def trenujY():\n",
    "    y1=[]\n",
    "    for i in range(0, 1394):\n",
    "        y1.append(y[i][0])\n",
    "    \n",
    "    return y1"
   ]
  },
  {
   "cell_type": "code",
   "execution_count": 41,
   "metadata": {},
   "outputs": [],
   "source": [
    "def testX():\n",
    "    x2=[]\n",
    "    for i in range(1395,1990):\n",
    "        x2.append(x[i][112][183])\n",
    "\n",
    "    return x2"
   ]
  },
  {
   "cell_type": "code",
   "execution_count": 42,
   "metadata": {},
   "outputs": [],
   "source": [
    "def testY():\n",
    "    y2=[]\n",
    "    for i in range(1395,1990):\n",
    "        y2.append(y[i][0])\n",
    "    \n",
    "    return y2"
   ]
  },
  {
   "cell_type": "markdown",
   "metadata": {},
   "source": [
    "### załaduje listę plików i zwróci jako trójwymiarową tablicę numpy"
   ]
  },
  {
   "cell_type": "code",
   "execution_count": 92,
   "metadata": {},
   "outputs": [],
   "source": [
    "\n",
    "def load_group(filenames):\n",
    "\tloaded = list()\n",
    "\tfor name in filenames:\n",
    "\t\tdata = f\n",
    "\t\tloaded.append(data)\n",
    "\t# grupę stosów, tak aby funkcje były trzecim wymiarem\n",
    "\tloaded = dstack(loaded)\n",
    "\treturn loaded\n",
    " \n"
   ]
  },
  {
   "cell_type": "markdown",
   "metadata": {},
   "source": [
    "# Ładujemy dane"
   ]
  },
  {
   "cell_type": "code",
   "execution_count": 244,
   "metadata": {},
   "outputs": [],
   "source": []
  },
  {
   "cell_type": "code",
   "execution_count": 278,
   "metadata": {},
   "outputs": [],
   "source": [
    "import numpy as np\n",
    "\n",
    "X = x[0:1991]\n",
    "Y = y[0:1991]\n",
    "\n",
    "def Shuffle_Arr(arr):\n",
    "    np.random.shuffle(arr)\n",
    "    \n",
    "    return arr"
   ]
  },
  {
   "cell_type": "code",
   "execution_count": 288,
   "metadata": {},
   "outputs": [],
   "source": [
    "def load_dataset():\n",
    "    \n",
    "    Shuffle_Arr(X)\n",
    "    Shuffle_Arr(Y)\n",
    "    \n",
    "    TrainX = X[0:1394]\n",
    "    TestX = X[1395:1991]\n",
    "    TrainY = Y[0:1394]\n",
    "    TestY = Y[1395:1991]\n",
    "\n",
    "    TrainY = to_categorical(TrainY)\n",
    "    TestY = to_categorical(TestY)\n",
    "    #print(trenujX.shape, trenujY.shape, testX.shape, testY.shape)\n",
    "    return TrainX, TrainY, TestX, TestY"
   ]
  },
  {
   "cell_type": "code",
   "execution_count": 289,
   "metadata": {},
   "outputs": [],
   "source": [
    "TrainX, TrainY, TestX, TestY = load_dataset()"
   ]
  },
  {
   "cell_type": "markdown",
   "metadata": {},
   "source": [
    "# struktura sieci"
   ]
  },
  {
   "cell_type": "code",
   "execution_count": 290,
   "metadata": {},
   "outputs": [],
   "source": [
    "\n",
    "# def evaluate_model(TrainX, TrainY, TestX, TestY):\n",
    "# \t# define model\n",
    "# \tverbose, epochs, batch_size = 0, 25, 64\n",
    "# \tn_timesteps, n_features, n_outputs = TrainX.shape[1], TrainX.shape[2], TrainY.shape[1]\n",
    "# \t# przekształcić w trening (próbki, kroki czasowe, rzędy, kolumny, kanały)\n",
    "# \tn_steps, n_length = 4, 32\n",
    "# \tTrainX = TrainX.reshape((TrainX.shape[0], n_steps, 1, n_length, n_features))\n",
    "# \tTestX = TestX.reshape((TestX.shape[0], n_steps, 1, n_length, n_features))\n",
    "# \t# define model\n",
    "# \tmodel = Sequential()\n",
    "# \tmodel.add(ConvLSTM2D(filters=64, kernel_size=(1,3), activation='relu', input_shape=(n_steps, 1, n_length, n_features)))\n",
    "# \tmodel.add(Dropout(0.5))\n",
    "# \tmodel.add(Flatten())\n",
    "# \tmodel.add(Dense(100, activation='relu'))\n",
    "# \tmodel.add(Dense(n_outputs, activation='softmax'))\n",
    "# \tmodel.compile(loss='categorical_crossentropy', optimizer='adam', metrics=['accuracy'])\n",
    "# \t# fit network\n",
    "# \tmodel.fit(TrainX, TrainY, epochs=epochs, batch_size=batch_size, verbose=verbose)\n",
    "# \t# evaluate model\n",
    "# \t_, accuracy = model.evaluate(x2, y2, batch_size=batch_size, verbose=0)\n",
    "# \treturn accuracy\n"
   ]
  },
  {
   "cell_type": "code",
   "execution_count": 334,
   "metadata": {},
   "outputs": [],
   "source": [
    "def evaluate_model(TrainX, TrainY, TestX, TestY):\n",
    "\tverbose, epochs, batch_size = 0, 15, 64 # 15, 64\n",
    "\tn_timesteps, n_features, n_outputs = TrainX.shape[1], TrainX.shape[2], TrainY.shape[1]\n",
    "\tmodel = Sequential()\n",
    "\tmodel.add(LSTM(100, input_shape=(n_timesteps,n_features)))\n",
    "\tmodel.add(Dropout(0.9)) # 0.5\n",
    "\tmodel.add(Dense(100, activation='relu'))\n",
    "\tmodel.add(Dense(n_outputs, activation='softmax'))\n",
    "\tmodel.compile(loss='categorical_crossentropy', optimizer='adam', metrics=['accuracy'])\n",
    "\t# fit network\n",
    "\tmodel.fit(TrainX, TrainY, epochs=epochs, batch_size=batch_size, verbose=verbose)\n",
    "\t# evaluate model\n",
    "\t_, accuracy = model.evaluate(TestX, TestY, batch_size=batch_size, verbose=0)\n",
    "\treturn accuracy"
   ]
  },
  {
   "cell_type": "code",
   "execution_count": 335,
   "metadata": {},
   "outputs": [
    {
     "data": {
      "text/plain": [
       "0.3288590610027313"
      ]
     },
     "execution_count": 335,
     "metadata": {},
     "output_type": "execute_result"
    }
   ],
   "source": [
    "evaluate_model(TrainX, TrainY, TestX, TestY)"
   ]
  },
  {
   "cell_type": "code",
   "execution_count": 336,
   "metadata": {},
   "outputs": [
    {
     "data": {
      "text/plain": [
       "(113, 184, 11)"
      ]
     },
     "execution_count": 336,
     "metadata": {},
     "output_type": "execute_result"
    }
   ],
   "source": [
    "TrainX.shape[1], TrainX.shape[2], TrainY.shape[1]"
   ]
  },
  {
   "cell_type": "code",
   "execution_count": 337,
   "metadata": {},
   "outputs": [],
   "source": [
    "# # podsumowuje wyniki uruchomienia\n",
    "\n",
    "# def summarize_results(scores):\n",
    "# \tprint(scores)\n",
    "# \tm, s = mean(scores), std(scores)\n",
    "# \tprint('Accuracy: %.3f%% (+/-%.3f)' % (m, s))\n"
   ]
  },
  {
   "cell_type": "code",
   "execution_count": 338,
   "metadata": {},
   "outputs": [],
   "source": [
    "def run_experiment(repeats=10):\n",
    "\t# load data\n",
    "\tTrainX, TrainY, testX, TestY = load_dataset()\n",
    "\t# repeat experiment\n",
    "\tscores = list()\n",
    "\tfor r in range(repeats):\n",
    "\t\tscore = evaluate_model(TrainX, TrainY, TestX, TestY)\n",
    "\t\tscore = score * 100.0\n",
    "\t\tprint('>#%d: %.3f' % (r+1, score))\n",
    "\t\tscores.append(score)\n",
    "\t# summarize results\n",
    "\tsummarize_results(scores)\n"
   ]
  },
  {
   "cell_type": "code",
   "execution_count": 339,
   "metadata": {},
   "outputs": [
    {
     "name": "stdout",
     "output_type": "stream",
     "text": [
      ">#1: 32.550\n",
      ">#2: 32.718\n",
      ">#3: 29.866\n",
      ">#4: 28.020\n",
      ">#5: 31.208\n",
      ">#6: 31.711\n",
      ">#7: 32.718\n",
      ">#8: 31.879\n",
      ">#9: 30.034\n",
      ">#10: 29.195\n",
      "[32.55033493041992, 32.71812200546265, 29.865771532058716, 28.020134568214417, 31.20805323123932, 31.711408495903015, 32.71812200546265, 31.87919557094574, 30.0335556268692, 29.194632172584534]\n",
      "Accuracy: 30.990% (+/-1.549)\n"
     ]
    }
   ],
   "source": [
    "run_experiment(repeats=10)"
   ]
  },
  {
   "cell_type": "code",
   "execution_count": null,
   "metadata": {},
   "outputs": [],
   "source": []
  },
  {
   "cell_type": "code",
   "execution_count": null,
   "metadata": {},
   "outputs": [],
   "source": []
  }
 ],
 "metadata": {
  "kernelspec": {
   "display_name": "Python 3",
   "language": "python",
   "name": "python3"
  },
  "language_info": {
   "codemirror_mode": {
    "name": "ipython",
    "version": 3
   },
   "file_extension": ".py",
   "mimetype": "text/x-python",
   "name": "python",
   "nbconvert_exporter": "python",
   "pygments_lexer": "ipython3",
   "version": "3.8.3"
  }
 },
 "nbformat": 4,
 "nbformat_minor": 4
}
