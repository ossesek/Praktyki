{
 "cells": [
  {
   "cell_type": "code",
   "execution_count": 1,
   "metadata": {},
   "outputs": [],
   "source": [
    "import btk\n",
    "import glob\n",
    "import pandas as pd\n",
    "import numpy as np\n",
    "import matplotlib.pyplot as plt\n",
    "import importlib\n",
    "from ezc3d import c3d\n",
    "from pyomeca import Markers, Analogs\n",
    "from math import sqrt \n"
   ]
  },
  {
   "cell_type": "code",
   "execution_count": 2,
   "metadata": {},
   "outputs": [],
   "source": [
    "data_path=r\"C:\\Users\\bezar\\OneDrive\\Pulpit\\pjatk\\B0444-S01-E01-T01.c3d\"\n",
    "data_path2=r\"C:\\Users\\bezar\\OneDrive\\Pulpit\\pjatk\\B0445-S01-E01-T01.c3d\"\n",
    "data_path3=r\"C:\\Users\\bezar\\OneDrive\\Pulpit\\pjatk\\B0446-S01-E01-T01.c3d\"\n",
    "data_path4=r\"C:\\Users\\bezar\\OneDrive\\Pulpit\\pjatk\\B0447-S01-E01-T01.c3d\"\n",
    "data_path5=r\"C:\\Users\\bezar\\OneDrive\\Pulpit\\pjatk\\B0448-S01-E01-T01.c3d\"\n",
    "data_path6=r\"C:\\Users\\bezar\\OneDrive\\Pulpit\\pjatk\\B0449-S01-E01-T01.c3d\"\n",
    "data_path7=r\"C:\\Users\\bezar\\OneDrive\\Pulpit\\pjatk\\B0450-S01-E01-T01.c3d\"\n",
    "data_path8=r\"C:\\Users\\bezar\\OneDrive\\Pulpit\\pjatk\\B0451-S01-E01-T01.c3d\"\n",
    "data_path9=r\"C:\\Users\\bezar\\OneDrive\\Pulpit\\pjatk\\B0452-S01-E01-T01.c3d\"\n",
    "data_path10=r\"C:\\Users\\bezar\\OneDrive\\Pulpit\\pjatk\\B0453-S01-E01-T01.c3d\"\n",
    "data_path11=r\"C:\\Users\\bezar\\OneDrive\\Pulpit\\pjatk\\B0454-S01-E01-T01.c3d\"\n",
    "data_path12=r\"C:\\Users\\bezar\\OneDrive\\Pulpit\\pjatk\\B0455-S01-E01-T01.c3d\"\n",
    "data_path13=r\"C:\\Users\\bezar\\OneDrive\\Pulpit\\pjatk\\B0456-S01-E01-T01.c3d\"\n",
    "data_path14=r\"C:\\Users\\bezar\\OneDrive\\Pulpit\\pjatk\\B0457-S01-E01-T01.c3d\"\n",
    "data_path15=r\"C:\\Users\\bezar\\OneDrive\\Pulpit\\pjatk\\B0458-S01-E01-T01.c3d\"\n",
    "\n",
    "marker = Markers.from_c3d(data_path, usecols=[\"Miecz:Miecz1\"])"
   ]
  },
  {
   "cell_type": "code",
   "execution_count": 3,
   "metadata": {},
   "outputs": [],
   "source": [
    "def sword_vel(data_path):\n",
    "    \n",
    "    marker = Markers.from_c3d(data_path, usecols=[\"Miecz:Miecz1\"])\n",
    "    \n",
    "    dist=[]\n",
    "    \n",
    "    for time in marker[0][0][\"time\"].values:\n",
    "        \n",
    "        #print(marker[0][0][frame].values)\n",
    "        \n",
    "        if time == 0:\n",
    "            dist.append(0)\n",
    "        else:\n",
    "            frame = (time*200).astype(int)\n",
    "            dist.append(sqrt((marker[0][0][frame-1].values-marker[0][0][frame].values)**2+(marker[1][0][frame-1].values-marker[1][0][frame].values)**2+(marker[2][0][frame-1].values-marker[2][0][frame].values)**2))\n",
    "        \n",
    "    vel=np.diff(dist[1:])\n",
    "    max_vel = max(vel)\n",
    "    #print(max_vel)\n",
    "    \n",
    "    return max_vel*5"
   ]
  },
  {
   "cell_type": "code",
   "execution_count": 4,
   "metadata": {},
   "outputs": [
    {
     "ename": "KeyboardInterrupt",
     "evalue": "",
     "output_type": "error",
     "traceback": [
      "\u001b[1;31m---------------------------------------------------------------------------\u001b[0m",
      "\u001b[1;31mKeyboardInterrupt\u001b[0m                         Traceback (most recent call last)",
      "\u001b[1;32m<ipython-input-4-e8de3a5067d7>\u001b[0m in \u001b[0;36m<module>\u001b[1;34m\u001b[0m\n\u001b[0;32m     12\u001b[0m \u001b[0mx\u001b[0m\u001b[1;33m.\u001b[0m\u001b[0mappend\u001b[0m\u001b[1;33m(\u001b[0m\u001b[0msword_vel\u001b[0m\u001b[1;33m(\u001b[0m\u001b[0mdata_path11\u001b[0m\u001b[1;33m)\u001b[0m\u001b[1;33m)\u001b[0m\u001b[1;33m\u001b[0m\u001b[1;33m\u001b[0m\u001b[0m\n\u001b[0;32m     13\u001b[0m \u001b[0mx\u001b[0m\u001b[1;33m.\u001b[0m\u001b[0mappend\u001b[0m\u001b[1;33m(\u001b[0m\u001b[0msword_vel\u001b[0m\u001b[1;33m(\u001b[0m\u001b[0mdata_path12\u001b[0m\u001b[1;33m)\u001b[0m\u001b[1;33m)\u001b[0m\u001b[1;33m\u001b[0m\u001b[1;33m\u001b[0m\u001b[0m\n\u001b[1;32m---> 14\u001b[1;33m \u001b[0mx\u001b[0m\u001b[1;33m.\u001b[0m\u001b[0mappend\u001b[0m\u001b[1;33m(\u001b[0m\u001b[0msword_vel\u001b[0m\u001b[1;33m(\u001b[0m\u001b[0mdata_path13\u001b[0m\u001b[1;33m)\u001b[0m\u001b[1;33m)\u001b[0m\u001b[1;33m\u001b[0m\u001b[1;33m\u001b[0m\u001b[0m\n\u001b[0m\u001b[0;32m     15\u001b[0m \u001b[0mx\u001b[0m\u001b[1;33m.\u001b[0m\u001b[0mappend\u001b[0m\u001b[1;33m(\u001b[0m\u001b[0msword_vel\u001b[0m\u001b[1;33m(\u001b[0m\u001b[0mdata_path14\u001b[0m\u001b[1;33m)\u001b[0m\u001b[1;33m)\u001b[0m\u001b[1;33m\u001b[0m\u001b[1;33m\u001b[0m\u001b[0m\n\u001b[0;32m     16\u001b[0m \u001b[0mx\u001b[0m\u001b[1;33m.\u001b[0m\u001b[0mappend\u001b[0m\u001b[1;33m(\u001b[0m\u001b[0msword_vel\u001b[0m\u001b[1;33m(\u001b[0m\u001b[0mdata_path15\u001b[0m\u001b[1;33m)\u001b[0m\u001b[1;33m)\u001b[0m\u001b[1;33m\u001b[0m\u001b[1;33m\u001b[0m\u001b[0m\n",
      "\u001b[1;32m<ipython-input-3-ecb074dbccfa>\u001b[0m in \u001b[0;36msword_vel\u001b[1;34m(data_path)\u001b[0m\n\u001b[0;32m      1\u001b[0m \u001b[1;32mdef\u001b[0m \u001b[0msword_vel\u001b[0m\u001b[1;33m(\u001b[0m\u001b[0mdata_path\u001b[0m\u001b[1;33m)\u001b[0m\u001b[1;33m:\u001b[0m\u001b[1;33m\u001b[0m\u001b[1;33m\u001b[0m\u001b[0m\n\u001b[0;32m      2\u001b[0m \u001b[1;33m\u001b[0m\u001b[0m\n\u001b[1;32m----> 3\u001b[1;33m     \u001b[0mmarker\u001b[0m \u001b[1;33m=\u001b[0m \u001b[0mMarkers\u001b[0m\u001b[1;33m.\u001b[0m\u001b[0mfrom_c3d\u001b[0m\u001b[1;33m(\u001b[0m\u001b[0mdata_path\u001b[0m\u001b[1;33m,\u001b[0m \u001b[0musecols\u001b[0m\u001b[1;33m=\u001b[0m\u001b[1;33m[\u001b[0m\u001b[1;34m\"Miecz:Miecz1\"\u001b[0m\u001b[1;33m]\u001b[0m\u001b[1;33m)\u001b[0m\u001b[1;33m\u001b[0m\u001b[1;33m\u001b[0m\u001b[0m\n\u001b[0m\u001b[0;32m      4\u001b[0m \u001b[1;33m\u001b[0m\u001b[0m\n\u001b[0;32m      5\u001b[0m     \u001b[0mdist\u001b[0m\u001b[1;33m=\u001b[0m\u001b[1;33m[\u001b[0m\u001b[1;33m]\u001b[0m\u001b[1;33m\u001b[0m\u001b[1;33m\u001b[0m\u001b[0m\n",
      "\u001b[1;32m~\\anaconda3\\lib\\site-packages\\pyomeca\\markers.py\u001b[0m in \u001b[0;36mfrom_c3d\u001b[1;34m(cls, filename, usecols, prefix_delimiter, suffix_delimiter, attrs)\u001b[0m\n\u001b[0;32m    390\u001b[0m             \u001b[0;31m`\u001b[0m\u001b[0;31m`\u001b[0m\u001b[0;31m`\u001b[0m\u001b[1;33m\u001b[0m\u001b[1;33m\u001b[0m\u001b[0m\n\u001b[0;32m    391\u001b[0m         \"\"\"\n\u001b[1;32m--> 392\u001b[1;33m         return read.read_c3d(\n\u001b[0m\u001b[0;32m    393\u001b[0m             \u001b[0mcls\u001b[0m\u001b[1;33m,\u001b[0m \u001b[0mfilename\u001b[0m\u001b[1;33m,\u001b[0m \u001b[0musecols\u001b[0m\u001b[1;33m,\u001b[0m \u001b[0mprefix_delimiter\u001b[0m\u001b[1;33m,\u001b[0m \u001b[0msuffix_delimiter\u001b[0m\u001b[1;33m,\u001b[0m \u001b[0mattrs\u001b[0m\u001b[1;33m\u001b[0m\u001b[1;33m\u001b[0m\u001b[0m\n\u001b[0;32m    394\u001b[0m         )\n",
      "\u001b[1;32m~\\anaconda3\\lib\\site-packages\\pyomeca\\io\\read.py\u001b[0m in \u001b[0;36mread_c3d\u001b[1;34m(caller, filename, usecols, prefix_delimiter, suffix_delimiter, attrs)\u001b[0m\n\u001b[0;32m     20\u001b[0m     \u001b[0mgroup\u001b[0m \u001b[1;33m=\u001b[0m \u001b[1;34m\"ANALOG\"\u001b[0m \u001b[1;32mif\u001b[0m \u001b[0mcaller\u001b[0m\u001b[1;33m.\u001b[0m\u001b[0m__name__\u001b[0m \u001b[1;33m==\u001b[0m \u001b[1;34m\"Analogs\"\u001b[0m \u001b[1;32melse\u001b[0m \u001b[1;34m\"POINT\"\u001b[0m\u001b[1;33m\u001b[0m\u001b[1;33m\u001b[0m\u001b[0m\n\u001b[0;32m     21\u001b[0m \u001b[1;33m\u001b[0m\u001b[0m\n\u001b[1;32m---> 22\u001b[1;33m     \u001b[0mreader\u001b[0m \u001b[1;33m=\u001b[0m \u001b[0mezc3d\u001b[0m\u001b[1;33m.\u001b[0m\u001b[0mc3d\u001b[0m\u001b[1;33m(\u001b[0m\u001b[1;34mf\"{filename}\"\u001b[0m\u001b[1;33m)\u001b[0m\u001b[1;33m.\u001b[0m\u001b[0mc3d_swig\u001b[0m\u001b[1;33m\u001b[0m\u001b[1;33m\u001b[0m\u001b[0m\n\u001b[0m\u001b[0;32m     23\u001b[0m     columns = [\n\u001b[0;32m     24\u001b[0m         \u001b[0mcol_spliter\u001b[0m\u001b[1;33m(\u001b[0m\u001b[0mlabel\u001b[0m\u001b[1;33m,\u001b[0m \u001b[0mprefix_delimiter\u001b[0m\u001b[1;33m,\u001b[0m \u001b[0msuffix_delimiter\u001b[0m\u001b[1;33m)\u001b[0m\u001b[1;33m\u001b[0m\u001b[1;33m\u001b[0m\u001b[0m\n",
      "\u001b[1;32m~\\anaconda3\\lib\\site-packages\\ezc3d\\__init__.py\u001b[0m in \u001b[0;36m__init__\u001b[1;34m(self, path, extract_forceplat_data)\u001b[0m\n\u001b[0;32m    123\u001b[0m             \u001b[0mself\u001b[0m\u001b[1;33m.\u001b[0m\u001b[0mc3d_swig\u001b[0m \u001b[1;33m=\u001b[0m \u001b[0mezc3d\u001b[0m\u001b[1;33m.\u001b[0m\u001b[0mc3d\u001b[0m\u001b[1;33m(\u001b[0m\u001b[1;33m)\u001b[0m\u001b[1;33m\u001b[0m\u001b[1;33m\u001b[0m\u001b[0m\n\u001b[0;32m    124\u001b[0m         \u001b[1;32melse\u001b[0m\u001b[1;33m:\u001b[0m\u001b[1;33m\u001b[0m\u001b[1;33m\u001b[0m\u001b[0m\n\u001b[1;32m--> 125\u001b[1;33m             \u001b[0mself\u001b[0m\u001b[1;33m.\u001b[0m\u001b[0mc3d_swig\u001b[0m \u001b[1;33m=\u001b[0m \u001b[0mezc3d\u001b[0m\u001b[1;33m.\u001b[0m\u001b[0mc3d\u001b[0m\u001b[1;33m(\u001b[0m\u001b[0mpath\u001b[0m\u001b[1;33m)\u001b[0m\u001b[1;33m\u001b[0m\u001b[1;33m\u001b[0m\u001b[0m\n\u001b[0m\u001b[0;32m    126\u001b[0m \u001b[1;33m\u001b[0m\u001b[0m\n\u001b[0;32m    127\u001b[0m         \u001b[0mself\u001b[0m\u001b[1;33m.\u001b[0m\u001b[0m_storage\u001b[0m\u001b[1;33m[\u001b[0m\u001b[1;34m\"header\"\u001b[0m\u001b[1;33m]\u001b[0m \u001b[1;33m=\u001b[0m \u001b[0mc3d\u001b[0m\u001b[1;33m.\u001b[0m\u001b[0mHeader\u001b[0m\u001b[1;33m(\u001b[0m\u001b[0mself\u001b[0m\u001b[1;33m.\u001b[0m\u001b[0mc3d_swig\u001b[0m\u001b[1;33m.\u001b[0m\u001b[0mheader\u001b[0m\u001b[1;33m(\u001b[0m\u001b[1;33m)\u001b[0m\u001b[1;33m)\u001b[0m\u001b[1;33m\u001b[0m\u001b[1;33m\u001b[0m\u001b[0m\n",
      "\u001b[1;32m~\\anaconda3\\lib\\site-packages\\ezc3d\\ezc3d.py\u001b[0m in \u001b[0;36m__init__\u001b[1;34m(self, *args)\u001b[0m\n\u001b[0;32m   1676\u001b[0m \u001b[1;33m\u001b[0m\u001b[0m\n\u001b[0;32m   1677\u001b[0m     \u001b[1;32mdef\u001b[0m \u001b[0m__init__\u001b[0m\u001b[1;33m(\u001b[0m\u001b[0mself\u001b[0m\u001b[1;33m,\u001b[0m \u001b[1;33m*\u001b[0m\u001b[0margs\u001b[0m\u001b[1;33m)\u001b[0m\u001b[1;33m:\u001b[0m\u001b[1;33m\u001b[0m\u001b[1;33m\u001b[0m\u001b[0m\n\u001b[1;32m-> 1678\u001b[1;33m         \u001b[0m_ezc3d\u001b[0m\u001b[1;33m.\u001b[0m\u001b[0mc3d_swiginit\u001b[0m\u001b[1;33m(\u001b[0m\u001b[0mself\u001b[0m\u001b[1;33m,\u001b[0m \u001b[0m_ezc3d\u001b[0m\u001b[1;33m.\u001b[0m\u001b[0mnew_c3d\u001b[0m\u001b[1;33m(\u001b[0m\u001b[1;33m*\u001b[0m\u001b[0margs\u001b[0m\u001b[1;33m)\u001b[0m\u001b[1;33m)\u001b[0m\u001b[1;33m\u001b[0m\u001b[1;33m\u001b[0m\u001b[0m\n\u001b[0m\u001b[0;32m   1679\u001b[0m     \u001b[0m__swig_destroy__\u001b[0m \u001b[1;33m=\u001b[0m \u001b[0m_ezc3d\u001b[0m\u001b[1;33m.\u001b[0m\u001b[0mdelete_c3d\u001b[0m\u001b[1;33m\u001b[0m\u001b[1;33m\u001b[0m\u001b[0m\n\u001b[0;32m   1680\u001b[0m \u001b[1;33m\u001b[0m\u001b[0m\n",
      "\u001b[1;31mKeyboardInterrupt\u001b[0m: "
     ]
    }
   ],
   "source": [
    "x=[]\n",
    "x.append(sword_vel(data_path))\n",
    "x.append(sword_vel(data_path2))\n",
    "x.append(sword_vel(data_path3))\n",
    "x.append(sword_vel(data_path4)) \n",
    "x.append(sword_vel(data_path5))\n",
    "x.append(sword_vel(data_path6))\n",
    "x.append(sword_vel(data_path7))\n",
    "x.append(sword_vel(data_path8))\n",
    "x.append(sword_vel(data_path9))\n",
    "x.append(sword_vel(data_path10))\n",
    "x.append(sword_vel(data_path11))\n",
    "x.append(sword_vel(data_path12)) \n",
    "x.append(sword_vel(data_path13))\n",
    "x.append(sword_vel(data_path14))\n",
    "x.append(sword_vel(data_path15))\n",
    "#m/s"
   ]
  },
  {
   "cell_type": "code",
   "execution_count": null,
   "metadata": {},
   "outputs": [],
   "source": [
    "for i in range(0,15):\n",
    "    print(round(x[i],3), \" m/s\")"
   ]
  },
  {
   "cell_type": "code",
   "execution_count": null,
   "metadata": {},
   "outputs": [],
   "source": []
  },
  {
   "cell_type": "code",
   "execution_count": null,
   "metadata": {},
   "outputs": [],
   "source": []
  }
 ],
 "metadata": {
  "kernelspec": {
   "display_name": "Python 3",
   "language": "python",
   "name": "python3"
  },
  "language_info": {
   "codemirror_mode": {
    "name": "ipython",
    "version": 3
   },
   "file_extension": ".py",
   "mimetype": "text/x-python",
   "name": "python",
   "nbconvert_exporter": "python",
   "pygments_lexer": "ipython3",
   "version": "3.8.3"
  }
 },
 "nbformat": 4,
 "nbformat_minor": 4
}
