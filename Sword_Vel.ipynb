{
 "cells": [
  {
   "cell_type": "code",
   "execution_count": 1,
   "metadata": {},
   "outputs": [],
   "source": [
    "import btk\n",
    "import glob\n",
    "import pandas as pd\n",
    "import numpy as np\n",
    "import matplotlib.pyplot as plt\n",
    "import importlib\n",
    "from ezc3d import c3d\n",
    "from pyomeca import Markers, Analogs\n",
    "from math import sqrt \n"
   ]
  },
  {
   "cell_type": "code",
   "execution_count": 2,
   "metadata": {},
   "outputs": [],
   "source": [
    "data_path=r\"C:\\Users\\bezar\\OneDrive\\Pulpit\\pjatk\\B0444-S01-E01-T01.c3d\"\n",
    "data_path2=r\"C:\\Users\\bezar\\OneDrive\\Pulpit\\pjatk\\B0445-S01-E01-T01.c3d\"\n",
    "data_path3=r\"C:\\Users\\bezar\\OneDrive\\Pulpit\\pjatk\\B0446-S01-E01-T01.c3d\"\n",
    "data_path4=r\"C:\\Users\\bezar\\OneDrive\\Pulpit\\pjatk\\B0447-S01-E01-T01.c3d\"\n",
    "data_path5=r\"C:\\Users\\bezar\\OneDrive\\Pulpit\\pjatk\\B0448-S01-E01-T01.c3d\"\n",
    "data_path6=r\"C:\\Users\\bezar\\OneDrive\\Pulpit\\pjatk\\B0449-S01-E01-T01.c3d\"\n",
    "data_path7=r\"C:\\Users\\bezar\\OneDrive\\Pulpit\\pjatk\\B0450-S01-E01-T01.c3d\"\n",
    "data_path8=r\"C:\\Users\\bezar\\OneDrive\\Pulpit\\pjatk\\B0451-S01-E01-T01.c3d\"\n",
    "data_path9=r\"C:\\Users\\bezar\\OneDrive\\Pulpit\\pjatk\\B0452-S01-E01-T01.c3d\"\n",
    "data_path10=r\"C:\\Users\\bezar\\OneDrive\\Pulpit\\pjatk\\B0453-S01-E01-T01.c3d\"\n",
    "data_path11=r\"C:\\Users\\bezar\\OneDrive\\Pulpit\\pjatk\\B0454-S01-E01-T01.c3d\"\n",
    "data_path12=r\"C:\\Users\\bezar\\OneDrive\\Pulpit\\pjatk\\B0455-S01-E01-T01.c3d\"\n",
    "data_path13=r\"C:\\Users\\bezar\\OneDrive\\Pulpit\\pjatk\\B0456-S01-E01-T01.c3d\"\n",
    "data_path14=r\"C:\\Users\\bezar\\OneDrive\\Pulpit\\pjatk\\B0457-S01-E01-T01.c3d\"\n",
    "data_path15=r\"C:\\Users\\bezar\\OneDrive\\Pulpit\\pjatk\\B0458-S01-E01-T01.c3d\"\n",
    "\n",
    "marker = Markers.from_c3d(data_path, usecols=[\"Miecz:Miecz1\"])"
   ]
  },
  {
   "cell_type": "code",
   "execution_count": 3,
   "metadata": {},
   "outputs": [],
   "source": [
    "def sword_vel(data_path):\n",
    "    \n",
    "    marker = Markers.from_c3d(data_path, usecols=[\"Miecz:Miecz1\"])\n",
    "    \n",
    "    dist=[]\n",
    "    \n",
    "    for time in marker[0][0][\"time\"].values:\n",
    "        \n",
    "        #print(marker[0][0][frame].values)\n",
    "        \n",
    "        if time == 0:\n",
    "            dist.append(0)\n",
    "        else:\n",
    "            frame = (time*200).astype(int)\n",
    "            dist.append(sqrt((marker[0][0][frame-1].values-marker[0][0][frame].values)**2+(marker[1][0][frame-1].values-marker[1][0][frame].values)**2+(marker[2][0][frame-1].values-marker[2][0][frame].values)**2))\n",
    "        \n",
    "    vel=np.diff(dist[1:])\n",
    "    max_vel = max(vel)\n",
    "    #print(max_vel)\n",
    "    \n",
    "    return max_vel*5"
   ]
  },
  {
   "cell_type": "code",
   "execution_count": 4,
   "metadata": {},
   "outputs": [],
   "source": [
    "x=[]\n",
    "x.append(sword_vel(data_path))\n",
    "x.append(sword_vel(data_path2))\n",
    "x.append(sword_vel(data_path3))\n",
    "x.append(sword_vel(data_path4)) \n",
    "x.append(sword_vel(data_path5))\n",
    "x.append(sword_vel(data_path6))\n",
    "x.append(sword_vel(data_path7))\n",
    "x.append(sword_vel(data_path8))\n",
    "x.append(sword_vel(data_path9))\n",
    "x.append(sword_vel(data_path10))\n",
    "x.append(sword_vel(data_path11))\n",
    "x.append(sword_vel(data_path12)) \n",
    "x.append(sword_vel(data_path13))\n",
    "x.append(sword_vel(data_path14))\n",
    "x.append(sword_vel(data_path15))\n",
    "#m/s"
   ]
  },
  {
   "cell_type": "code",
   "execution_count": 22,
   "metadata": {},
   "outputs": [
    {
     "name": "stdout",
     "output_type": "stream",
     "text": [
      "Osoba 1 - 46.704  m/s\n",
      "Osoba 2 - 12.199  m/s\n",
      "Osoba 3 - 23.691  m/s\n",
      "Osoba 4 - 15.893  m/s\n",
      "Osoba 5 - 6.584  m/s\n",
      "Osoba 6 - 9.133  m/s\n",
      "Osoba 7 - 5.517  m/s\n",
      "Osoba 8 - 3.972  m/s\n",
      "Osoba 9 - 2.782  m/s\n",
      "Osoba 10 - 17.594  m/s\n",
      "Osoba 11 - 5.177  m/s\n",
      "Osoba 12 - 10.263  m/s\n",
      "Osoba 13 - 7.375  m/s\n",
      "Osoba 14 - 24.835  m/s\n",
      "Osoba 15 - 18.566  m/s\n"
     ]
    }
   ],
   "source": [
    "for i in range(0,15):\n",
    "    print(\"Osoba\",i+1,\"-\",round(x[i],3), \" m/s\")"
   ]
  },
  {
   "cell_type": "code",
   "execution_count": null,
   "metadata": {},
   "outputs": [],
   "source": []
  },
  {
   "cell_type": "code",
   "execution_count": null,
   "metadata": {},
   "outputs": [],
   "source": []
  }
 ],
 "metadata": {
  "kernelspec": {
   "display_name": "Python 3",
   "language": "python",
   "name": "python3"
  },
  "language_info": {
   "codemirror_mode": {
    "name": "ipython",
    "version": 3
   },
   "file_extension": ".py",
   "mimetype": "text/x-python",
   "name": "python",
   "nbconvert_exporter": "python",
   "pygments_lexer": "ipython3",
   "version": "3.8.3"
  }
 },
 "nbformat": 4,
 "nbformat_minor": 4
}
